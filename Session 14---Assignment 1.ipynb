{
 "cells": [
  {
   "cell_type": "markdown",
   "metadata": {},
   "source": [
    "Read the following data set:\n",
    "https://archive.ics.uci.edu/ml/machine-learning-databases/adult/adult.data\n",
    "Task:\n",
    "1. Create an sqlalchemy engine using a sample from the data set\n",
    "2. Write two basic update queries\n",
    "3. Write two delete queries\n",
    "4. Write two filter queries\n",
    "5. Write two function queries"
   ]
  },
  {
   "cell_type": "code",
   "execution_count": 13,
   "metadata": {},
   "outputs": [],
   "source": [
    "import numpy as np\n",
    "import pandas as pd\n",
    "import sqlite3"
   ]
  },
  {
   "cell_type": "code",
   "execution_count": 14,
   "metadata": {},
   "outputs": [],
   "source": [
    "import sqlalchemy"
   ]
  },
  {
   "cell_type": "code",
   "execution_count": 15,
   "metadata": {},
   "outputs": [
    {
     "data": {
      "text/plain": [
       "'1.3.3'"
      ]
     },
     "execution_count": 15,
     "metadata": {},
     "output_type": "execute_result"
    }
   ],
   "source": [
    "sqlalchemy.__version__"
   ]
  },
  {
   "cell_type": "code",
   "execution_count": 16,
   "metadata": {},
   "outputs": [],
   "source": [
    "from sqlalchemy import create_engine"
   ]
  },
  {
   "cell_type": "code",
   "execution_count": 7,
   "metadata": {},
   "outputs": [
    {
     "data": {
      "text/html": [
       "<div>\n",
       "<style scoped>\n",
       "    .dataframe tbody tr th:only-of-type {\n",
       "        vertical-align: middle;\n",
       "    }\n",
       "\n",
       "    .dataframe tbody tr th {\n",
       "        vertical-align: top;\n",
       "    }\n",
       "\n",
       "    .dataframe thead th {\n",
       "        text-align: right;\n",
       "    }\n",
       "</style>\n",
       "<table border=\"1\" class=\"dataframe\">\n",
       "  <thead>\n",
       "    <tr style=\"text-align: right;\">\n",
       "      <th></th>\n",
       "      <th>age</th>\n",
       "      <th>workclass</th>\n",
       "      <th>fnlwgt</th>\n",
       "      <th>education</th>\n",
       "      <th>education_num</th>\n",
       "      <th>marital_status</th>\n",
       "      <th>occupation</th>\n",
       "      <th>relationship</th>\n",
       "      <th>race</th>\n",
       "      <th>sex</th>\n",
       "      <th>capital_gain</th>\n",
       "      <th>captial_loss</th>\n",
       "      <th>hours_per_week</th>\n",
       "      <th>native_country</th>\n",
       "      <th>income</th>\n",
       "    </tr>\n",
       "  </thead>\n",
       "  <tbody>\n",
       "    <tr>\n",
       "      <th>0</th>\n",
       "      <td>39</td>\n",
       "      <td>State-gov</td>\n",
       "      <td>77516</td>\n",
       "      <td>Bachelors</td>\n",
       "      <td>13</td>\n",
       "      <td>Never-married</td>\n",
       "      <td>Adm-clerical</td>\n",
       "      <td>Not-in-family</td>\n",
       "      <td>White</td>\n",
       "      <td>Male</td>\n",
       "      <td>2174</td>\n",
       "      <td>0</td>\n",
       "      <td>40</td>\n",
       "      <td>United-States</td>\n",
       "      <td>&lt;=50K</td>\n",
       "    </tr>\n",
       "    <tr>\n",
       "      <th>1</th>\n",
       "      <td>50</td>\n",
       "      <td>Self-emp-not-inc</td>\n",
       "      <td>83311</td>\n",
       "      <td>Bachelors</td>\n",
       "      <td>13</td>\n",
       "      <td>Married-civ-spouse</td>\n",
       "      <td>Exec-managerial</td>\n",
       "      <td>Husband</td>\n",
       "      <td>White</td>\n",
       "      <td>Male</td>\n",
       "      <td>0</td>\n",
       "      <td>0</td>\n",
       "      <td>13</td>\n",
       "      <td>United-States</td>\n",
       "      <td>&lt;=50K</td>\n",
       "    </tr>\n",
       "    <tr>\n",
       "      <th>2</th>\n",
       "      <td>38</td>\n",
       "      <td>Private</td>\n",
       "      <td>215646</td>\n",
       "      <td>HS-grad</td>\n",
       "      <td>9</td>\n",
       "      <td>Divorced</td>\n",
       "      <td>Handlers-cleaners</td>\n",
       "      <td>Not-in-family</td>\n",
       "      <td>White</td>\n",
       "      <td>Male</td>\n",
       "      <td>0</td>\n",
       "      <td>0</td>\n",
       "      <td>40</td>\n",
       "      <td>United-States</td>\n",
       "      <td>&lt;=50K</td>\n",
       "    </tr>\n",
       "    <tr>\n",
       "      <th>3</th>\n",
       "      <td>53</td>\n",
       "      <td>Private</td>\n",
       "      <td>234721</td>\n",
       "      <td>11th</td>\n",
       "      <td>7</td>\n",
       "      <td>Married-civ-spouse</td>\n",
       "      <td>Handlers-cleaners</td>\n",
       "      <td>Husband</td>\n",
       "      <td>Black</td>\n",
       "      <td>Male</td>\n",
       "      <td>0</td>\n",
       "      <td>0</td>\n",
       "      <td>40</td>\n",
       "      <td>United-States</td>\n",
       "      <td>&lt;=50K</td>\n",
       "    </tr>\n",
       "    <tr>\n",
       "      <th>4</th>\n",
       "      <td>28</td>\n",
       "      <td>Private</td>\n",
       "      <td>338409</td>\n",
       "      <td>Bachelors</td>\n",
       "      <td>13</td>\n",
       "      <td>Married-civ-spouse</td>\n",
       "      <td>Prof-specialty</td>\n",
       "      <td>Wife</td>\n",
       "      <td>Black</td>\n",
       "      <td>Female</td>\n",
       "      <td>0</td>\n",
       "      <td>0</td>\n",
       "      <td>40</td>\n",
       "      <td>Cuba</td>\n",
       "      <td>&lt;=50K</td>\n",
       "    </tr>\n",
       "  </tbody>\n",
       "</table>\n",
       "</div>"
      ],
      "text/plain": [
       "   age          workclass  fnlwgt   education  education_num  \\\n",
       "0   39          State-gov   77516   Bachelors             13   \n",
       "1   50   Self-emp-not-inc   83311   Bachelors             13   \n",
       "2   38            Private  215646     HS-grad              9   \n",
       "3   53            Private  234721        11th              7   \n",
       "4   28            Private  338409   Bachelors             13   \n",
       "\n",
       "        marital_status          occupation    relationship    race      sex  \\\n",
       "0        Never-married        Adm-clerical   Not-in-family   White     Male   \n",
       "1   Married-civ-spouse     Exec-managerial         Husband   White     Male   \n",
       "2             Divorced   Handlers-cleaners   Not-in-family   White     Male   \n",
       "3   Married-civ-spouse   Handlers-cleaners         Husband   Black     Male   \n",
       "4   Married-civ-spouse      Prof-specialty            Wife   Black   Female   \n",
       "\n",
       "   capital_gain  captial_loss  hours_per_week  native_country  income  \n",
       "0          2174             0              40   United-States   <=50K  \n",
       "1             0             0              13   United-States   <=50K  \n",
       "2             0             0              40   United-States   <=50K  \n",
       "3             0             0              40   United-States   <=50K  \n",
       "4             0             0              40            Cuba   <=50K  "
      ]
     },
     "execution_count": 7,
     "metadata": {},
     "output_type": "execute_result"
    }
   ],
   "source": [
    "adult='https://archive.ics.uci.edu/ml/machine-learning-databases/adult/adult.data'\n",
    "columns=('age','workclass','fnlwgt','education','education_num','marital_status','occupation','relationship','race','sex','capital_gain','captial_loss','hours_per_week','native_country','income')\n",
    "adult=pd.read_csv(adult,names=columns)\n",
    "adult.head()"
   ]
  },
  {
   "cell_type": "markdown",
   "metadata": {},
   "source": [
    "Write two basic update queries"
   ]
  },
  {
   "cell_type": "code",
   "execution_count": 9,
   "metadata": {},
   "outputs": [],
   "source": [
    "engine = create_engine('sqlite:///sqladb', echo=False)\n",
    "adult.to_sql('sqladb', engine, if_exists ='replace')\n",
    "connection = sqlite3.connect(\"sqladb\")\n",
    "cursor = connection.cursor()"
   ]
  },
  {
   "cell_type": "markdown",
   "metadata": {},
   "source": [
    "UPDATE RECORD"
   ]
  },
  {
   "cell_type": "code",
   "execution_count": 10,
   "metadata": {},
   "outputs": [
    {
     "name": "stdout",
     "output_type": "stream",
     "text": [
      "   index  age          workclass  fnlwgt   education  education_num  \\\n",
      "0      0   39          State-gov   77516   Bachelors             13   \n",
      "1      1   50   Self-emp-not-inc    1515   Bachelors             13   \n",
      "\n",
      "        marital_status        occupation    relationship    race    sex  \\\n",
      "0        Never-married      Adm-clerical   Not-in-family   White   Male   \n",
      "1   Married-civ-spouse   Exec-managerial         Husband   White   Male   \n",
      "\n",
      "   capital_gain  captial_loss  hours_per_week  native_country  income  \n",
      "0          2174             0              40   United-States   <=50K  \n",
      "1             0             0              13   United-States   <=50K  \n"
     ]
    }
   ],
   "source": [
    "cursor.execute('UPDATE sqladb SET fnlwgt = \"1515\" WHERE fnlwgt = \"83311\"')\n",
    "print(pd.read_sql_query(\"SELECT * FROM sqladb\", connection).head(2))"
   ]
  },
  {
   "cell_type": "code",
   "execution_count": 11,
   "metadata": {},
   "outputs": [
    {
     "name": "stdout",
     "output_type": "stream",
     "text": [
      "   index  age          workclass  fnlwgt     education  education_num  \\\n",
      "0      1   50   Self-emp-not-inc    1515     Bachelors             13   \n",
      "1  16474   54   Self-emp-not-inc    1515   Prof-school             15   \n",
      "\n",
      "        marital_status        occupation relationship    race    sex  \\\n",
      "0   Married-civ-spouse   Exec-managerial      Husband   White   Male   \n",
      "1   Married-civ-spouse    Prof-specialty      Husband   White   Male   \n",
      "\n",
      "   capital_gain  captial_loss  hours_per_week  native_country  income  \n",
      "0             0             0              13   United-States   <=50K  \n",
      "1             0             0              30   United-States    >50K  \n"
     ]
    }
   ],
   "source": [
    "print(pd.read_sql_query(\"SELECT * FROM sqladb where fnlwgt = 1515\", connection).head(5))"
   ]
  },
  {
   "cell_type": "code",
   "execution_count": 25,
   "metadata": {},
   "outputs": [
    {
     "name": "stdout",
     "output_type": "stream",
     "text": [
      "   index  age          workclass  fnlwgt   education  education_num  \\\n",
      "0      0   39          State-gov   77516   Bachelors             13   \n",
      "1      1   50   Self-emp-not-inc   83311   Bachelors             13   \n",
      "\n",
      "   marital_status        occupation    relationship    race    sex  \\\n",
      "0   Never-married      Adm-clerical   Not-in-family   White   Male   \n",
      "1         Married   Exec-managerial         Husband   White   Male   \n",
      "\n",
      "   capital_gain  captial_loss  hours_per_week  native_country  income  \n",
      "0          2174             0              40   United-States   <=50K  \n",
      "1             0             0              13   United-States   <=50K  \n"
     ]
    }
   ],
   "source": [
    "cursor.execute('UPDATE sqladb SET marital_status = \" Married\" WHERE marital_status = \" Married-civ-spouse\"')\n",
    "print(pd.read_sql_query(\"select * from sqladb\", connection).head(2))"
   ]
  },
  {
   "cell_type": "markdown",
   "metadata": {},
   "source": [
    "Write two delete queries"
   ]
  },
  {
   "cell_type": "code",
   "execution_count": 31,
   "metadata": {},
   "outputs": [
    {
     "name": "stdout",
     "output_type": "stream",
     "text": [
      "Empty DataFrame\n",
      "Columns: [index, age, workclass, fnlwgt, education, education_num, marital_status, occupation, relationship, race, sex, capital_gain, captial_loss, hours_per_week, native_country, income]\n",
      "Index: []\n"
     ]
    }
   ],
   "source": [
    "cursor.execute('DELETE FROM sqladb where education_num = \"7\"')\n",
    "print (pd.read_sql_query(\"SELECT * FROM sqladb where education_num = 7\", connection).head(2))"
   ]
  },
  {
   "cell_type": "code",
   "execution_count": 27,
   "metadata": {},
   "outputs": [
    {
     "name": "stdout",
     "output_type": "stream",
     "text": [
      "   index  age          workclass  fnlwgt   education  education_num  \\\n",
      "0      0   39          State-gov   77516   Bachelors             13   \n",
      "1      1   50   Self-emp-not-inc   83311   Bachelors             13   \n",
      "2      2   38            Private  215646     HS-grad              9   \n",
      "3      4   28            Private  338409   Bachelors             13   \n",
      "4      5   37            Private  284582     Masters             14   \n",
      "\n",
      "   marital_status          occupation    relationship    race      sex  \\\n",
      "0   Never-married        Adm-clerical   Not-in-family   White     Male   \n",
      "1         Married     Exec-managerial         Husband   White     Male   \n",
      "2        Divorced   Handlers-cleaners   Not-in-family   White     Male   \n",
      "3         Married      Prof-specialty            Wife   Black   Female   \n",
      "4         Married     Exec-managerial            Wife   White   Female   \n",
      "\n",
      "   capital_gain  captial_loss  hours_per_week  native_country  income  \n",
      "0          2174             0              40   United-States   <=50K  \n",
      "1             0             0              13   United-States   <=50K  \n",
      "2             0             0              40   United-States   <=50K  \n",
      "3             0             0              40            Cuba   <=50K  \n",
      "4             0             0              40   United-States   <=50K  \n"
     ]
    }
   ],
   "source": [
    "cursor.execute('DELETE FROM sqladb WHERE age = \"53\" AND fnlwgt = \"234721\"')\n",
    "print(pd.read_sql_query(\"select * from sqladb\", connection).head())"
   ]
  },
  {
   "cell_type": "markdown",
   "metadata": {},
   "source": [
    "Write two filter queries"
   ]
  },
  {
   "cell_type": "code",
   "execution_count": 39,
   "metadata": {
    "scrolled": false
   },
   "outputs": [
    {
     "name": "stdout",
     "output_type": "stream",
     "text": [
      "[(142, 19, ' Private', 316868, ' Some-college', 10, ' Never-married', ' Other-service', ' Own-child', ' White', ' Male', 0, 0, 30, ' Mexico', ' <=50K'), (335, 17, ' Private', 270942, ' 5th-6th', 3, ' Never-married', ' Other-service', ' Other-relative', ' White', ' Male', 0, 0, 48, ' Mexico', ' <=50K'), (3118, 19, ' Private', 130431, ' 5th-6th', 3, ' Never-married', ' Farming-fishing', ' Not-in-family', ' White', ' Male', 0, 0, 36, ' Mexico', ' <=50K'), (9960, 19, ' Private', 228238, ' HS-grad', 9, ' Never-married', ' Machine-op-inspct', ' Other-relative', ' White', ' Male', 0, 0, 40, ' Mexico', ' <=50K'), (13286, 18, ' Private', 333611, ' 5th-6th', 3, ' Never-married', ' Other-service', ' Other-relative', ' White', ' Male', 0, 0, 54, ' Mexico', ' <=50K'), (14157, 17, ' Private', 270942, ' HS-grad', 9, ' Never-married', ' Other-service', ' Other-relative', ' White', ' Male', 0, 0, 35, ' Mexico', ' <=50K'), (14520, 18, ' Private', 79443, ' 9th', 5, ' Never-married', ' Machine-op-inspct', ' Own-child', ' White', ' Male', 0, 0, 40, ' Mexico', ' <=50K'), (21786, 18, ' Private', 335065, ' 7th-8th', 4, ' Never-married', ' Sales', ' Own-child', ' White', ' Male', 0, 0, 30, ' Mexico', ' <=50K'), (22107, 17, ' Private', 438996, ' 10th', 6, ' Never-married', ' Other-service', ' Other-relative', ' White', ' Male', 0, 0, 40, ' Mexico', ' <=50K'), (23875, 19, ' Private', 316797, ' 7th-8th', 4, ' Married', ' Handlers-cleaners', ' Own-child', ' White', ' Male', 0, 0, 45, ' Mexico', ' <=50K'), (24352, 18, ' Private', 184693, ' Some-college', 10, ' Never-married', ' Other-service', ' Own-child', ' White', ' Female', 0, 0, 20, ' Mexico', ' <=50K'), (24951, 19, ' Private', 277695, ' 9th', 5, ' Never-married', ' Farming-fishing', ' Other-relative', ' White', ' Male', 0, 0, 16, ' Mexico', ' <=50K'), (27405, 18, ' Private', 426836, ' 5th-6th', 3, ' Never-married', ' Handlers-cleaners', ' Other-relative', ' White', ' Male', 0, 0, 40, ' Mexico', ' <=50K'), (27531, 19, ' Private', 472807, ' 1st-4th', 2, ' Never-married', ' Handlers-cleaners', ' Other-relative', ' White', ' Male', 0, 0, 52, ' Mexico', ' <=50K'), (27794, 19, ' Private', 225775, ' Some-college', 10, ' Never-married', ' Craft-repair', ' Not-in-family', ' White', ' Male', 0, 0, 45, ' Mexico', ' <=50K'), (28836, 19, ' Private', 311974, ' HS-grad', 9, ' Never-married', ' Craft-repair', ' Other-relative', ' White', ' Male', 0, 0, 25, ' Mexico', ' <=50K'), (29457, 19, ' Private', 340567, ' 1st-4th', 2, ' Never-married', ' Handlers-cleaners', ' Not-in-family', ' White', ' Male', 0, 0, 55, ' Mexico', ' <=50K'), (29876, 19, ' Private', 311974, ' 1st-4th', 2, ' Never-married', ' Machine-op-inspct', ' Other-relative', ' White', ' Male', 0, 0, 40, ' Mexico', ' <=50K')]\n"
     ]
    }
   ],
   "source": [
    "cursor.execute('SELECT DISTINCT * FROM sqladb WHERE workclass = \" Private\" AND age < 20 AND race = \" White\" AND native_country=\" Mexico\"')\n",
    "output= cursor.fetchall()\n",
    "print(output)"
   ]
  },
  {
   "cell_type": "code",
   "execution_count": 40,
   "metadata": {},
   "outputs": [
    {
     "name": "stdout",
     "output_type": "stream",
     "text": [
      "[(378, 46, ' Self-emp-not-inc', 80914, ' Masters', 14, ' Divorced', ' Exec-managerial', ' Not-in-family', ' White', ' Male', 0, 0, 30, ' United-States', ' <=50K'), (569, 47, ' Private', 87490, ' Masters', 14, ' Divorced', ' Exec-managerial', ' Unmarried', ' White', ' Male', 0, 0, 42, ' United-States', ' <=50K'), (996, 45, ' Private', 89325, ' Masters', 14, ' Divorced', ' Prof-specialty', ' Not-in-family', ' White', ' Male', 0, 0, 45, ' United-States', ' <=50K'), (1675, 43, ' Private', 37937, ' Masters', 14, ' Divorced', ' Exec-managerial', ' Unmarried', ' White', ' Male', 0, 0, 50, ' United-States', ' <=50K'), (2186, 47, ' Self-emp-not-inc', 77102, ' Masters', 14, ' Divorced', ' Prof-specialty', ' Not-in-family', ' White', ' Male', 0, 0, 40, ' United-States', ' <=50K'), (3160, 43, ' Local-gov', 247514, ' Masters', 14, ' Divorced', ' Prof-specialty', ' Unmarried', ' White', ' Male', 0, 0, 40, ' United-States', ' <=50K'), (3979, 48, ' Private', 96798, ' Masters', 14, ' Divorced', ' Sales', ' Not-in-family', ' White', ' Male', 0, 0, 35, ' United-States', ' <=50K'), (5283, 40, ' Private', 167265, ' Masters', 14, ' Divorced', ' Prof-specialty', ' Not-in-family', ' White', ' Male', 0, 0, 43, ' United-States', ' <=50K'), (5305, 42, ' Federal-gov', 74680, ' Masters', 14, ' Divorced', ' Adm-clerical', ' Not-in-family', ' White', ' Male', 0, 2001, 60, ' United-States', ' <=50K'), (5648, 45, ' State-gov', 67544, ' Masters', 14, ' Divorced', ' Protective-serv', ' Not-in-family', ' White', ' Male', 0, 0, 50, ' United-States', ' <=50K'), (5926, 42, ' Private', 259643, ' Masters', 14, ' Divorced', ' Prof-specialty', ' Not-in-family', ' White', ' Male', 4650, 0, 40, ' United-States', ' <=50K'), (8185, 37, ' Private', 312271, ' Masters', 14, ' Divorced', ' Exec-managerial', ' Not-in-family', ' White', ' Male', 0, 0, 65, ' United-States', ' <=50K'), (8390, 45, ' Local-gov', 195418, ' Masters', 14, ' Divorced', ' Prof-specialty', ' Not-in-family', ' Black', ' Male', 0, 0, 40, ' United-States', ' <=50K'), (8766, 42, ' Local-gov', 176716, ' Masters', 14, ' Divorced', ' Prof-specialty', ' Not-in-family', ' White', ' Male', 0, 0, 40, ' United-States', ' <=50K'), (11257, 37, ' Private', 372525, ' Masters', 14, ' Divorced', ' Prof-specialty', ' Unmarried', ' White', ' Male', 0, 0, 48, ' United-States', ' <=50K'), (11818, 36, ' State-gov', 108320, ' Masters', 14, ' Divorced', ' Prof-specialty', ' Unmarried', ' White', ' Male', 5455, 0, 30, ' United-States', ' <=50K'), (17228, 41, ' Local-gov', 33068, ' Masters', 14, ' Divorced', ' Prof-specialty', ' Not-in-family', ' White', ' Male', 0, 1974, 40, ' United-States', ' <=50K'), (22434, 45, ' Private', 168262, ' Masters', 14, ' Divorced', ' Prof-specialty', ' Not-in-family', ' White', ' Male', 0, 0, 40, ' United-States', ' <=50K'), (25379, 45, ' State-gov', 127089, ' Masters', 14, ' Divorced', ' Exec-managerial', ' Not-in-family', ' White', ' Male', 0, 0, 45, ' United-States', ' <=50K'), (25520, 48, ' State-gov', 49595, ' Masters', 14, ' Divorced', ' Protective-serv', ' Not-in-family', ' White', ' Male', 0, 0, 72, ' United-States', ' <=50K'), (25878, 45, ' Self-emp-not-inc', 246891, ' Masters', 14, ' Divorced', ' Craft-repair', ' Not-in-family', ' White', ' Male', 0, 0, 40, ' United-States', ' <=50K'), (26219, 42, ' State-gov', 219682, ' Masters', 14, ' Divorced', ' Exec-managerial', ' Not-in-family', ' White', ' Male', 0, 0, 45, ' United-States', ' <=50K'), (29189, 40, ' Private', 56072, ' Masters', 14, ' Divorced', ' Prof-specialty', ' Not-in-family', ' White', ' Male', 0, 0, 20, ' United-States', ' <=50K'), (29537, 46, ' Local-gov', 133969, ' Masters', 14, ' Divorced', ' Prof-specialty', ' Not-in-family', ' Amer-Indian-Eskimo', ' Male', 0, 0, 40, ' United-States', ' <=50K'), (29695, 47, ' Private', 606752, ' Masters', 14, ' Divorced', ' Tech-support', ' Not-in-family', ' White', ' Male', 0, 0, 40, ' United-States', ' <=50K'), (30271, 41, ' State-gov', 100800, ' Masters', 14, ' Divorced', ' Prof-specialty', ' Not-in-family', ' White', ' Male', 0, 0, 35, ' United-States', ' <=50K'), (30374, 42, ' State-gov', 121265, ' Masters', 14, ' Divorced', ' Prof-specialty', ' Not-in-family', ' White', ' Male', 0, 0, 40, ' United-States', ' <=50K')]\n"
     ]
    }
   ],
   "source": [
    "cursor.execute('SELECT DISTINCT * FROM sqladb WHERE education = \" Masters\" AND age < 50 AND marital_status = \" Divorced\" AND native_country =\" United-States\" AND Sex =\" Male\" AND income =\" <=50K\"')\n",
    "output = cursor.fetchall()\n",
    "print(output)"
   ]
  },
  {
   "cell_type": "markdown",
   "metadata": {},
   "source": [
    "Write two function queries"
   ]
  },
  {
   "cell_type": "code",
   "execution_count": 41,
   "metadata": {},
   "outputs": [
    {
     "name": "stdout",
     "output_type": "stream",
     "text": [
      "   max(capital_gain)  min(capital_gain)  avg(capital_gain)\n",
      "0              99999                  0        1109.940228\n"
     ]
    }
   ],
   "source": [
    "from sqlalchemy.sql import func\n",
    "print(pd.read_sql_query(\"SELECT max(capital_gain),min(capital_gain),avg(capital_gain) FROM sqladb \", connection).head(2))"
   ]
  },
  {
   "cell_type": "code",
   "execution_count": 43,
   "metadata": {},
   "outputs": [],
   "source": [
    "def weekly_hours():\n",
    "    cursor.execute('SELECT avg(hours_per_week) FROM sqladb where occupation = \" Handlers-cleaners\" AND sex =\" Male\" AND workclass = \" Private\"')\n",
    "    output = cursor.fetchall()\n",
    "    print(output)"
   ]
  },
  {
   "cell_type": "code",
   "execution_count": 44,
   "metadata": {},
   "outputs": [
    {
     "name": "stdout",
     "output_type": "stream",
     "text": [
      "[(38.70796460176991,)]\n"
     ]
    }
   ],
   "source": [
    "weekly_hours()"
   ]
  },
  {
   "cell_type": "code",
   "execution_count": 46,
   "metadata": {},
   "outputs": [
    {
     "name": "stdout",
     "output_type": "stream",
     "text": [
      "<class 'pandas.core.frame.DataFrame'>\n",
      "RangeIndex: 32561 entries, 0 to 32560\n",
      "Data columns (total 15 columns):\n",
      "age               32561 non-null int64\n",
      "workclass         32561 non-null object\n",
      "fnlwgt            32561 non-null int64\n",
      "education         32561 non-null object\n",
      "education_num     32561 non-null int64\n",
      "marital_status    32561 non-null object\n",
      "occupation        32561 non-null object\n",
      "relationship      32561 non-null object\n",
      "race              32561 non-null object\n",
      "sex               32561 non-null object\n",
      "capital_gain      32561 non-null int64\n",
      "captial_loss      32561 non-null int64\n",
      "hours_per_week    32561 non-null int64\n",
      "native_country    32561 non-null object\n",
      "income            32561 non-null object\n",
      "dtypes: int64(6), object(9)\n",
      "memory usage: 3.7+ MB\n"
     ]
    }
   ],
   "source": [
    "adult.info()"
   ]
  }
 ],
 "metadata": {
  "kernelspec": {
   "display_name": "Python 3",
   "language": "python",
   "name": "python3"
  },
  "language_info": {
   "codemirror_mode": {
    "name": "ipython",
    "version": 3
   },
   "file_extension": ".py",
   "mimetype": "text/x-python",
   "name": "python",
   "nbconvert_exporter": "python",
   "pygments_lexer": "ipython3",
   "version": "3.6.4"
  }
 },
 "nbformat": 4,
 "nbformat_minor": 2
}
